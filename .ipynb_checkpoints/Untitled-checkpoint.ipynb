{
 "cells": [
  {
   "cell_type": "code",
   "execution_count": 9,
   "metadata": {},
   "outputs": [],
   "source": [
    "import hashlib"
   ]
  },
  {
   "cell_type": "code",
   "execution_count": 10,
   "metadata": {},
   "outputs": [],
   "source": [
    "class ToucanCoinBlock:\n",
    "    \n",
    "    def __init__(self, previous_block_hash, transaction_list):\n",
    "        self.previous_block_hash = previous_block_hash\n",
    "        self.transaction_list = transaction_list\n",
    "        \n",
    "        self.block_data = \"<-->\".join(transaction_list) + \"<-->\" + previous_block_hash\n",
    "        self.block_hash = hashlib.sha256(self.block_data.encode()).hexdigest()"
   ]
  },
  {
   "cell_type": "code",
   "execution_count": 11,
   "metadata": {},
   "outputs": [],
   "source": [
    "# transactions\n",
    "t1 = \"Jonas sent 8.8 TC to Elijah\"\n",
    "t2 = \"Sawyer sent 0.4 TC to Dylan\"\n",
    "t3 = \"Elijah sent 4 TC to Sawyer\"\n",
    "t4 = \"Lincoln sent 1 TC to Jonas\"\n",
    "t5 = \"Dylan sent 11.11 TC to Lincoln\""
   ]
  },
  {
   "cell_type": "code",
   "execution_count": 13,
   "metadata": {
    "scrolled": true
   },
   "outputs": [
    {
     "name": "stdout",
     "output_type": "stream",
     "text": [
      "Jonas sent 8.8 TC to Elijah<-->Sawyer sent 0.4 TC to Dylan<-->Initial String\n",
      "e103f2d3dc9f213063e7cf67855c6a4a81846c56808a914e7023d35cd08424e5\n"
     ]
    }
   ],
   "source": [
    "initial_block = ToucanCoinBlock(\"Initial String\", [t1, t2])\n",
    "print(initial_block.block_data)\n",
    "print(initial_block.block_hash)"
   ]
  },
  {
   "cell_type": "code",
   "execution_count": 14,
   "metadata": {},
   "outputs": [
    {
     "name": "stdout",
     "output_type": "stream",
     "text": [
      "Jonas sent 8.9 TCB to Elijah<-->Sawyer sent 0.4 TC to Dylan<-->Initial String\n",
      "d2c7f6baeb1e86a9f14d9a6c77f2e7e1e08d9723e1d25973b423c47e92e04191\n"
     ]
    }
   ],
   "source": [
    "# minor change (8.8 --> 8.9 TC) ==> different hash\n",
    "t1 = \"Jonas sent 8.9 TCB to Elijah\"\n",
    "\n",
    "initial_block = ToucanCoinBlock(\"Initial String\", [t1, t2])\n",
    "print(initial_block.block_data)\n",
    "print(initial_block.block_hash)"
   ]
  },
  {
   "cell_type": "code",
   "execution_count": 15,
   "metadata": {},
   "outputs": [
    {
     "name": "stdout",
     "output_type": "stream",
     "text": [
      "Elijah sent 4 TC to Sawyer<-->d2c7f6baeb1e86a9f14d9a6c77f2e7e1e08d9723e1d25973b423c47e92e04191\n",
      "97fbcadd2ebd3f4172e0238f4c1c58d51bb7b9558c68e87f9b8c665fd02ffd5c\n"
     ]
    }
   ],
   "source": [
    "second_block = ToucanCoinBlock(initial_block.block_hash, [t3])\n",
    "print(second_block.block_data)\n",
    "print(second_block.block_hash)"
   ]
  },
  {
   "cell_type": "code",
   "execution_count": 17,
   "metadata": {},
   "outputs": [
    {
     "name": "stdout",
     "output_type": "stream",
     "text": [
      "Lincoln sent 1 TC to Jonas<-->97fbcadd2ebd3f4172e0238f4c1c58d51bb7b9558c68e87f9b8c665fd02ffd5c\n",
      "a9ed902346a3b51b73542d651f445b8496bcf9f1f7c086fc43cda135debb3b77\n"
     ]
    }
   ],
   "source": [
    "third_block = ToucanCoinBlock(second_block.block_hash, [t4])\n",
    "print(third_block.block_data)\n",
    "print(third_block.block_hash)"
   ]
  },
  {
   "cell_type": "code",
   "execution_count": null,
   "metadata": {},
   "outputs": [],
   "source": []
  }
 ],
 "metadata": {
  "kernelspec": {
   "display_name": "Python 3",
   "language": "python",
   "name": "python3"
  },
  "language_info": {
   "codemirror_mode": {
    "name": "ipython",
    "version": 3
   },
   "file_extension": ".py",
   "mimetype": "text/x-python",
   "name": "python",
   "nbconvert_exporter": "python",
   "pygments_lexer": "ipython3",
   "version": "3.8.5"
  }
 },
 "nbformat": 4,
 "nbformat_minor": 4
}
